{
 "cells": [
  {
   "cell_type": "code",
   "execution_count": 14,
   "id": "61be904b",
   "metadata": {},
   "outputs": [
    {
     "data": {
      "text/plain": [
       "<module 'ImplementationNode' from '/Users/cheonsiyeong/git/AlgorithmAndDataStructure/Code in Lecture/ImplementationNode.py'>"
      ]
     },
     "execution_count": 14,
     "metadata": {},
     "output_type": "execute_result"
    }
   ],
   "source": [
    "import ImplementationNode as ds\n",
    "from importlib import reload\n",
    "import random\n",
    "\n",
    "reload(ds)"
   ]
  },
  {
   "cell_type": "code",
   "execution_count": null,
   "id": "0ea5c9bc",
   "metadata": {},
   "outputs": [],
   "source": [
    "node_list = []\n",
    "for _ in range(1000):\n",
    "    node_list.append(ds.Node(random.randint(1, 10000)))"
   ]
  },
  {
   "cell_type": "code",
   "execution_count": null,
   "id": "64e8a895",
   "metadata": {
    "scrolled": true
   },
   "outputs": [],
   "source": [
    "node_list"
   ]
  },
  {
   "cell_type": "code",
   "execution_count": null,
   "id": "f6d654ee",
   "metadata": {},
   "outputs": [],
   "source": [
    "for idx in range(1, len(node_list)):\n",
    "    node_list[idx-1] + node_list[idx]"
   ]
  },
  {
   "cell_type": "code",
   "execution_count": null,
   "id": "925af89a",
   "metadata": {},
   "outputs": [],
   "source": [
    "node_list[0].next"
   ]
  },
  {
   "cell_type": "code",
   "execution_count": null,
   "id": "b16f4513",
   "metadata": {},
   "outputs": [],
   "source": [
    "a = node_list[0]"
   ]
  },
  {
   "cell_type": "code",
   "execution_count": null,
   "id": "86d78dc4",
   "metadata": {},
   "outputs": [],
   "source": [
    "cur_node = a\n",
    "while cur_node is not None:\n",
    "    print(cur_node.data)\n",
    "    cur_node = cur_node.next\n",
    "else:\n",
    "    print(\"End of List\")"
   ]
  },
  {
   "cell_type": "code",
   "execution_count": null,
   "id": "4e97bbca",
   "metadata": {},
   "outputs": [],
   "source": [
    "cur_node.next #에러.cur_node가 리스트의 끝에 도달했기 때문이다"
   ]
  },
  {
   "cell_type": "code",
   "execution_count": null,
   "id": "e8242477",
   "metadata": {},
   "outputs": [],
   "source": [
    "a = ds.Node(10010)"
   ]
  },
  {
   "cell_type": "code",
   "execution_count": 15,
   "id": "8d035a71",
   "metadata": {},
   "outputs": [],
   "source": [
    "my_bag = ds.LinkedListBag()"
   ]
  },
  {
   "cell_type": "code",
   "execution_count": 16,
   "id": "9199988f",
   "metadata": {},
   "outputs": [],
   "source": [
    "for _ in range(5):\n",
    "    my_bag.append(ds.Node(random.randint(1, 10000)))"
   ]
  },
  {
   "cell_type": "code",
   "execution_count": 17,
   "id": "c6ab232f",
   "metadata": {},
   "outputs": [
    {
     "data": {
      "text/plain": [
       " 1691 ->  3015 ->  8135 ->  499 ->  437 -> End of Linked List"
      ]
     },
     "execution_count": 17,
     "metadata": {},
     "output_type": "execute_result"
    }
   ],
   "source": [
    "my_bag"
   ]
  },
  {
   "cell_type": "code",
   "execution_count": 18,
   "id": "d90f8a1b",
   "metadata": {},
   "outputs": [
    {
     "data": {
      "text/plain": [
       "True"
      ]
     },
     "execution_count": 18,
     "metadata": {},
     "output_type": "execute_result"
    }
   ],
   "source": [
    "new_node = ds. Node (random. randint (1, 10000))\n",
    "my_bag. insert (new_node, 3)"
   ]
  },
  {
   "cell_type": "code",
   "execution_count": 19,
   "id": "76279dfc",
   "metadata": {},
   "outputs": [
    {
     "data": {
      "text/plain": [
       " 1691 ->  3015 ->  8135 ->  7786 ->  499 ->  437 -> End of Linked List"
      ]
     },
     "execution_count": 19,
     "metadata": {},
     "output_type": "execute_result"
    }
   ],
   "source": [
    "my_bag"
   ]
  },
  {
   "cell_type": "code",
   "execution_count": 20,
   "id": "f47186b6",
   "metadata": {},
   "outputs": [
    {
     "name": "stdout",
     "output_type": "stream",
     "text": [
      "I have a data : 1691\n",
      "I hava a node : 4394991232\n",
      "I have a data : 3015\n",
      "I hava a node : 4394991328\n",
      "I have a data : 8135\n",
      "I hava a node : 4394984896\n",
      "I have a data : 7786\n",
      "I hava a node : 4394989120\n",
      "I have a data : 499\n",
      "I hava a node : 4394989408\n",
      "I have a data : 437\n",
      "I hava a node : 4355509952\n"
     ]
    }
   ],
   "source": [
    "for my_node in my_bag:\n",
    "    print(my_node)"
   ]
  },
  {
   "cell_type": "code",
   "execution_count": null,
   "id": "55defefe",
   "metadata": {},
   "outputs": [],
   "source": []
  }
 ],
 "metadata": {
  "kernelspec": {
   "display_name": "Python 3 (ipykernel)",
   "language": "python",
   "name": "python3"
  },
  "language_info": {
   "codemirror_mode": {
    "name": "ipython",
    "version": 3
   },
   "file_extension": ".py",
   "mimetype": "text/x-python",
   "name": "python",
   "nbconvert_exporter": "python",
   "pygments_lexer": "ipython3",
   "version": "3.10.4"
  }
 },
 "nbformat": 4,
 "nbformat_minor": 5
}
