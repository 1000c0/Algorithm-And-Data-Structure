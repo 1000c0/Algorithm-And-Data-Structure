{
 "cells": [
  {
   "cell_type": "code",
   "execution_count": 40,
   "id": "9144f167",
   "metadata": {},
   "outputs": [
    {
     "data": {
      "text/plain": [
       "<module 'ImplementationNode' from '/Users/cheonsiyeong/git/AlgorithmAndDataStructure/Code in Lecture/ImplementationNode.py'>"
      ]
     },
     "execution_count": 40,
     "metadata": {},
     "output_type": "execute_result"
    }
   ],
   "source": [
    "import ImplementationNode as ds\n",
    "import importlib\n",
    "importlib.reload(ds)"
   ]
  },
  {
   "cell_type": "code",
   "execution_count": 41,
   "id": "cc7384cb",
   "metadata": {},
   "outputs": [],
   "source": [
    "import random"
   ]
  },
  {
   "cell_type": "code",
   "execution_count": 42,
   "id": "082f8e62",
   "metadata": {},
   "outputs": [],
   "source": [
    "node_list = []\n",
    "for _ in range(1000): #랜덤으로 노드의 값을 배정해 1000개 생성\n",
    "    node_list.append(ds.Node(random.randint(1, 10000)))"
   ]
  },
  {
   "cell_type": "code",
   "execution_count": 47,
   "id": "388b85bc",
   "metadata": {},
   "outputs": [],
   "source": [
    "for idx in range(1, len(node_list)): #생성된 노드를 순서대로 연결\n",
    "    node_list[idx - 1] + node_list[idx]"
   ]
  },
  {
   "cell_type": "code",
   "execution_count": 50,
   "id": "3b8a328c",
   "metadata": {},
   "outputs": [
    {
     "data": {
      "text/plain": [
       "1648"
      ]
     },
     "execution_count": 50,
     "metadata": {},
     "output_type": "execute_result"
    }
   ],
   "source": [
    "node_list[0].next.data"
   ]
  },
  {
   "cell_type": "code",
   "execution_count": null,
   "id": "5df3e06b",
   "metadata": {},
   "outputs": [],
   "source": [
    "print(node_list[5].data.next) #오류. 5번 노드의 데이터에는 next값이 없기 때문"
   ]
  },
  {
   "cell_type": "code",
   "execution_count": 51,
   "id": "df733edc",
   "metadata": {},
   "outputs": [
    {
     "data": {
      "text/plain": [
       "[Node : 2209, Node : 1648, Node : 930, Node : 6860, Node : 4771]"
      ]
     },
     "execution_count": 51,
     "metadata": {},
     "output_type": "execute_result"
    }
   ],
   "source": [
    "node_list[:5]"
   ]
  },
  {
   "cell_type": "code",
   "execution_count": 32,
   "id": "06834003",
   "metadata": {},
   "outputs": [],
   "source": [
    "a = ds.Node(2)\n",
    "b = ds.Node(52)\n",
    "c = ds.Node(18)"
   ]
  },
  {
   "cell_type": "code",
   "execution_count": 33,
   "id": "f84a0e3a",
   "metadata": {},
   "outputs": [],
   "source": [
    "a + b"
   ]
  },
  {
   "cell_type": "code",
   "execution_count": 34,
   "id": "66020251",
   "metadata": {},
   "outputs": [
    {
     "data": {
      "text/plain": [
       "I have a data : 52\n",
       "I hava a node : 4344876736"
      ]
     },
     "execution_count": 34,
     "metadata": {},
     "output_type": "execute_result"
    }
   ],
   "source": [
    "a.next"
   ]
  },
  {
   "cell_type": "code",
   "execution_count": 35,
   "id": "b95d813f",
   "metadata": {},
   "outputs": [],
   "source": [
    "b + c"
   ]
  },
  {
   "cell_type": "code",
   "execution_count": 36,
   "id": "797e8737",
   "metadata": {},
   "outputs": [
    {
     "data": {
      "text/plain": [
       "I have a data : 18\n",
       "I hava a node : 4344876736"
      ]
     },
     "execution_count": 36,
     "metadata": {},
     "output_type": "execute_result"
    }
   ],
   "source": [
    "b.next"
   ]
  },
  {
   "cell_type": "code",
   "execution_count": 28,
   "id": "5245d3e0",
   "metadata": {},
   "outputs": [],
   "source": [
    "a.next = b\n",
    "b.next = c"
   ]
  },
  {
   "cell_type": "code",
   "execution_count": 29,
   "id": "b5dd1709",
   "metadata": {},
   "outputs": [
    {
     "data": {
      "text/plain": [
       "I have a data : 2\n",
       "I hava a node : I have a data : 52\n",
       "I hava a node : I have a data : 18\n",
       "I hava a node : None"
      ]
     },
     "execution_count": 29,
     "metadata": {},
     "output_type": "execute_result"
    }
   ],
   "source": [
    "a"
   ]
  },
  {
   "cell_type": "code",
   "execution_count": 14,
   "id": "88843f30",
   "metadata": {},
   "outputs": [
    {
     "data": {
      "text/plain": [
       "I have a data : 52\n",
       "I hava a node : 4385335008"
      ]
     },
     "execution_count": 14,
     "metadata": {},
     "output_type": "execute_result"
    }
   ],
   "source": [
    "b"
   ]
  },
  {
   "cell_type": "code",
   "execution_count": 15,
   "id": "455de223",
   "metadata": {},
   "outputs": [
    {
     "data": {
      "text/plain": [
       "I have a data : 18\n",
       "I hava a node : 4344876736"
      ]
     },
     "execution_count": 15,
     "metadata": {},
     "output_type": "execute_result"
    }
   ],
   "source": [
    "c"
   ]
  },
  {
   "cell_type": "code",
   "execution_count": 4,
   "id": "3da14661",
   "metadata": {},
   "outputs": [
    {
     "data": {
      "text/plain": [
       "2"
      ]
     },
     "execution_count": 4,
     "metadata": {},
     "output_type": "execute_result"
    }
   ],
   "source": [
    "a.data"
   ]
  },
  {
   "cell_type": "code",
   "execution_count": 5,
   "id": "a5130496",
   "metadata": {},
   "outputs": [
    {
     "data": {
      "text/plain": [
       "52"
      ]
     },
     "execution_count": 5,
     "metadata": {},
     "output_type": "execute_result"
    }
   ],
   "source": [
    "a.next.data"
   ]
  },
  {
   "cell_type": "code",
   "execution_count": 6,
   "id": "dc151d0a",
   "metadata": {},
   "outputs": [
    {
     "name": "stdout",
     "output_type": "stream",
     "text": [
      "\n",
      "    A class to represent a Node for an explanation of data structure.\n",
      "\n",
      "    ...\n",
      "\n",
      "    Attributes\n",
      "    ----------\n",
      "    data : Any\n",
      "        data that user store on Node instance\n",
      "    next: Node\n",
      "        object connected to the next node in a linked list.\n",
      "    \n"
     ]
    }
   ],
   "source": [
    "print(a.__doc__)"
   ]
  },
  {
   "cell_type": "code",
   "execution_count": 8,
   "id": "25556f52",
   "metadata": {},
   "outputs": [
    {
     "name": "stdout",
     "output_type": "stream",
     "text": [
      "{'_data': 2, '_next': I have a data : 52\n",
      "I hava a node : 4382468144}\n"
     ]
    }
   ],
   "source": [
    "print(a.__dict__)"
   ]
  },
  {
   "cell_type": "code",
   "execution_count": 9,
   "id": "fff10123",
   "metadata": {},
   "outputs": [
    {
     "name": "stdout",
     "output_type": "stream",
     "text": [
      "I have a data : 2\n",
      "I hava a node : 4382463296\n"
     ]
    }
   ],
   "source": [
    "print(a)"
   ]
  }
 ],
 "metadata": {
  "kernelspec": {
   "display_name": "Python 3 (ipykernel)",
   "language": "python",
   "name": "python3"
  },
  "language_info": {
   "codemirror_mode": {
    "name": "ipython",
    "version": 3
   },
   "file_extension": ".py",
   "mimetype": "text/x-python",
   "name": "python",
   "nbconvert_exporter": "python",
   "pygments_lexer": "ipython3",
   "version": "3.10.4"
  }
 },
 "nbformat": 4,
 "nbformat_minor": 5
}
