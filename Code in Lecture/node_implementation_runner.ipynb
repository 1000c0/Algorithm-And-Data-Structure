{
 "cells": [
  {
   "cell_type": "code",
   "execution_count": 1,
   "id": "9144f167",
   "metadata": {},
   "outputs": [
    {
     "data": {
      "text/plain": [
       "<module 'ImplementationNode' from '/Users/cheonsiyeong/git/AlgorithmAndDataStructure/Code in Lecture/ImplementationNode.py'>"
      ]
     },
     "execution_count": 1,
     "metadata": {},
     "output_type": "execute_result"
    }
   ],
   "source": [
    "import ImplementationNode as ds\n",
    "import importlib\n",
    "importlib.reload(ds)"
   ]
  },
  {
   "cell_type": "code",
   "execution_count": null,
   "id": "cc7384cb",
   "metadata": {},
   "outputs": [],
   "source": [
    "import random"
   ]
  },
  {
   "cell_type": "code",
   "execution_count": null,
   "id": "082f8e62",
   "metadata": {},
   "outputs": [],
   "source": [
    "node_list = []\n",
    "for _ in range(1000): #랜덤으로 노드의 값을 배정해 1000개 생성\n",
    "    node_list.append(ds.Node(random.randint(1, 10000)))"
   ]
  },
  {
   "cell_type": "code",
   "execution_count": null,
   "id": "388b85bc",
   "metadata": {},
   "outputs": [],
   "source": [
    "for idx in range(1, len(node_list)): #생성된 노드를 순서대로 연결\n",
    "    node_list[idx - 1] + node_list[idx]"
   ]
  },
  {
   "cell_type": "code",
   "execution_count": null,
   "id": "3b8a328c",
   "metadata": {},
   "outputs": [],
   "source": [
    "node_list[0].next.data"
   ]
  },
  {
   "cell_type": "code",
   "execution_count": null,
   "id": "5df3e06b",
   "metadata": {},
   "outputs": [],
   "source": [
    "print(node_list[5].data.next) #오류. 5번 노드의 데이터에는 next값이 없기 때문"
   ]
  },
  {
   "cell_type": "code",
   "execution_count": null,
   "id": "df733edc",
   "metadata": {},
   "outputs": [],
   "source": [
    "node_list[:5]"
   ]
  },
  {
   "cell_type": "code",
   "execution_count": null,
   "id": "06834003",
   "metadata": {},
   "outputs": [],
   "source": [
    "a = ds.Node(2)\n",
    "b = ds.Node(52)\n",
    "c = ds.Node(18)"
   ]
  },
  {
   "cell_type": "code",
   "execution_count": null,
   "id": "f84a0e3a",
   "metadata": {},
   "outputs": [],
   "source": [
    "a + b"
   ]
  },
  {
   "cell_type": "code",
   "execution_count": null,
   "id": "66020251",
   "metadata": {},
   "outputs": [],
   "source": [
    "a.next"
   ]
  },
  {
   "cell_type": "code",
   "execution_count": null,
   "id": "b95d813f",
   "metadata": {},
   "outputs": [],
   "source": [
    "b + c"
   ]
  },
  {
   "cell_type": "code",
   "execution_count": null,
   "id": "797e8737",
   "metadata": {},
   "outputs": [],
   "source": [
    "b.next"
   ]
  },
  {
   "cell_type": "code",
   "execution_count": null,
   "id": "5245d3e0",
   "metadata": {},
   "outputs": [],
   "source": [
    "a.next = b\n",
    "b.next = c"
   ]
  },
  {
   "cell_type": "code",
   "execution_count": null,
   "id": "b5dd1709",
   "metadata": {},
   "outputs": [],
   "source": [
    "a"
   ]
  },
  {
   "cell_type": "code",
   "execution_count": null,
   "id": "88843f30",
   "metadata": {},
   "outputs": [],
   "source": [
    "b"
   ]
  },
  {
   "cell_type": "code",
   "execution_count": null,
   "id": "455de223",
   "metadata": {},
   "outputs": [],
   "source": [
    "c"
   ]
  },
  {
   "cell_type": "code",
   "execution_count": null,
   "id": "3da14661",
   "metadata": {},
   "outputs": [],
   "source": [
    "a.data"
   ]
  },
  {
   "cell_type": "code",
   "execution_count": null,
   "id": "a5130496",
   "metadata": {},
   "outputs": [],
   "source": [
    "a.next.data"
   ]
  },
  {
   "cell_type": "code",
   "execution_count": null,
   "id": "dc151d0a",
   "metadata": {},
   "outputs": [],
   "source": [
    "print(a.__doc__)"
   ]
  },
  {
   "cell_type": "code",
   "execution_count": null,
   "id": "25556f52",
   "metadata": {},
   "outputs": [],
   "source": [
    "print(a.__dict__)"
   ]
  },
  {
   "cell_type": "code",
   "execution_count": null,
   "id": "fff10123",
   "metadata": {},
   "outputs": [],
   "source": [
    "print(a)"
   ]
  },
  {
   "cell_type": "code",
   "execution_count": 2,
   "id": "bbb65ce8",
   "metadata": {},
   "outputs": [
    {
     "name": "stdout",
     "output_type": "stream",
     "text": [
      "None\n"
     ]
    }
   ],
   "source": [
    "print(ds.v1 + ds.v2)"
   ]
  }
 ],
 "metadata": {
  "kernelspec": {
   "display_name": "Python 3 (ipykernel)",
   "language": "python",
   "name": "python3"
  },
  "language_info": {
   "codemirror_mode": {
    "name": "ipython",
    "version": 3
   },
   "file_extension": ".py",
   "mimetype": "text/x-python",
   "name": "python",
   "nbconvert_exporter": "python",
   "pygments_lexer": "ipython3",
   "version": "3.10.4"
  }
 },
 "nbformat": 4,
 "nbformat_minor": 5
}
