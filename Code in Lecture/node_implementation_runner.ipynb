{
 "cells": [
  {
   "cell_type": "code",
   "execution_count": 20,
   "id": "9144f167",
   "metadata": {},
   "outputs": [
    {
     "data": {
      "text/plain": [
       "<module 'node' from '/Users/cheonsiyeong/git/AlgorithmAndDataStructure/Code in Lecture/node.py'>"
      ]
     },
     "execution_count": 20,
     "metadata": {},
     "output_type": "execute_result"
    }
   ],
   "source": [
    "import node as ds\n",
    "import importlib\n",
    "importlib.reload(ds)"
   ]
  },
  {
   "cell_type": "code",
   "execution_count": 21,
   "id": "06834003",
   "metadata": {},
   "outputs": [],
   "source": [
    "a = ds.Node(2)\n",
    "b = ds.Node(52)\n",
    "c = ds.Node(18)"
   ]
  },
  {
   "cell_type": "code",
   "execution_count": 22,
   "id": "5245d3e0",
   "metadata": {},
   "outputs": [],
   "source": [
    "a.next = b\n",
    "b.next = c\n",
    "b = None\n",
    "c = None"
   ]
  },
  {
   "cell_type": "code",
   "execution_count": 23,
   "id": "3da14661",
   "metadata": {},
   "outputs": [
    {
     "data": {
      "text/plain": [
       "52"
      ]
     },
     "execution_count": 23,
     "metadata": {},
     "output_type": "execute_result"
    }
   ],
   "source": [
    "a.next.data"
   ]
  },
  {
   "cell_type": "code",
   "execution_count": 24,
   "id": "dc151d0a",
   "metadata": {},
   "outputs": [
    {
     "name": "stdout",
     "output_type": "stream",
     "text": [
      "\n",
      "    A class to represent a Node for an explanation of data structure.\n",
      "\n",
      "    ...\n",
      "\n",
      "    Attributes\n",
      "    ----------\n",
      "    data : Any\n",
      "        data that user store on Node instance\n",
      "    next: Node\n",
      "        object connected to the next node in a linked list.\n",
      "    \n"
     ]
    }
   ],
   "source": [
    "print(a.__doc__)"
   ]
  },
  {
   "cell_type": "code",
   "execution_count": null,
   "id": "c735e200",
   "metadata": {},
   "outputs": [],
   "source": []
  }
 ],
 "metadata": {
  "kernelspec": {
   "display_name": "Python 3 (ipykernel)",
   "language": "python",
   "name": "python3"
  },
  "language_info": {
   "codemirror_mode": {
    "name": "ipython",
    "version": 3
   },
   "file_extension": ".py",
   "mimetype": "text/x-python",
   "name": "python",
   "nbconvert_exporter": "python",
   "pygments_lexer": "ipython3",
   "version": "3.10.4"
  }
 },
 "nbformat": 4,
 "nbformat_minor": 5
}
